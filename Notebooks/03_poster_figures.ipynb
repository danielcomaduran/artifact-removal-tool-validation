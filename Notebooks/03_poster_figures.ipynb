{
 "cells": [
  {
   "attachments": {},
   "cell_type": "markdown",
   "metadata": {},
   "source": [
    "# Poster figures\n",
    "\n",
    "This notebook has the code to generate all the figures of the BCI society poster\n",
    "\n",
    "## Import libraries"
   ]
  },
  {
   "cell_type": "code",
   "execution_count": null,
   "metadata": {},
   "outputs": [],
   "source": [
    "import numpy as np\n",
    "import matplotlib.pyplot as plt\n",
    "from scipy import signal"
   ]
  },
  {
   "attachments": {},
   "cell_type": "markdown",
   "metadata": {},
   "source": [
    "## Butterworth filter response"
   ]
  },
  {
   "cell_type": "code",
   "execution_count": null,
   "metadata": {},
   "outputs": [],
   "source": [
    "fs = 1000 # Sampling frequency\n",
    "lowcut = 1 # Lower cutoff frequency\n",
    "highcut = 30 # Upper cutoff frequency\n",
    "order = 4 # Filter order\n",
    "\n",
    "nyq = 0.5 * fs # Nyquist frequency\n",
    "low = lowcut / nyq # Normalized lower cutoff frequency\n",
    "high = highcut / nyq # Normalized upper cutoff frequency\n",
    "\n",
    "b, a = signal.butter(order, [low, high], btype='band')\n",
    "\n",
    "w, h = signal.freqz(b, a)\n",
    "\n",
    "fig, ax = plt.subplots(1, 1)\n",
    "ax.plot(0.5*fs*w/np.pi, np.abs(h), 'b')\n",
    "ax.set_xlabel('Frequency (Hz)')\n",
    "ax.set_ylabel('Gain')\n",
    "ax.set_title('Frequency Response')\n",
    "ax.axvline(lowcut, color='k')\n",
    "ax.axvline(highcut, color='k')\n",
    "plt.show()"
   ]
  }
 ],
 "metadata": {
  "language_info": {
   "name": "python"
  },
  "orig_nbformat": 4
 },
 "nbformat": 4,
 "nbformat_minor": 2
}
