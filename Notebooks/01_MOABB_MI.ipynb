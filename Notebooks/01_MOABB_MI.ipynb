{
 "cells": [
  {
   "cell_type": "markdown",
   "metadata": {},
   "source": [
    "# MOABB Motor Imagery Dataset example\n",
    "\n",
    "Import the motor imagery (MI) trials from MOABB "
   ]
  },
  {
   "cell_type": "code",
   "execution_count": 1,
   "metadata": {},
   "outputs": [],
   "source": [
    "%matplotlib qt\n",
    "\n",
    "## Import libraries\n",
    "import mne\n",
    "import sys\n",
    "import numpy as np\n",
    "import scipy.signal as signal\n",
    "import matplotlib.pyplot as plt\n",
    "from mne.decoding import CSP\n",
    "from mne.decoding import PSDEstimator\n",
    "from moabb.datasets import BNCI2015004\n",
    "from moabb.paradigms import MotorImagery \n",
    "import matplotlib.collections as collections\n",
    "from sklearn.svm import SVC\n",
    "from sklearn.discriminant_analysis import LinearDiscriminantAnalysis as LDA\n",
    "from sklearn.pipeline import make_pipeline\n",
    "sys.path.append(\"..\") # Adds higher directory to python modules path.\n",
    "from Functions import artifact_removal_tools as art\n",
    "from Functions import eeg_preprocessing\n",
    "from Functions import eeg_quality_index\n",
    "from Functions import art_pipeline\n",
    "from Functions import psd_auc\n",
    "# from ..Functions import psd_auc\n",
    "from moabb.evaluations import WithinSessionEvaluation\n",
    "from sklearn.model_selection import train_test_split\n",
    "from sklearn.model_selection import StratifiedKFold\n",
    "from sklearn.metrics import confusion_matrix"
   ]
  },
  {
   "cell_type": "markdown",
   "metadata": {},
   "source": [
    "## Import MI data\n",
    "\n"
   ]
  },
  {
   "cell_type": "code",
   "execution_count": 2,
   "metadata": {},
   "outputs": [],
   "source": [
    "# Settings\n",
    "subjects = [1]    # List of subjects [n]\n",
    "\n",
    "# Import dataset\n",
    "dataset = BNCI2015004()\n",
    "dataset.subject_list = subjects\n",
    "\n",
    "# Select session from dataset\n",
    "sessions = dataset.get_data(subjects=subjects)"
   ]
  },
  {
   "cell_type": "code",
   "execution_count": 3,
   "metadata": {},
   "outputs": [],
   "source": [
    "# Select MI paradigm for classes (n=5): Word, Subtaction, Navigation, RightHand, and Feet\n",
    "fc = [0.1, 100] # Cut-off frequencies [Hz]\n",
    "# fc = [8, 30] # Cut-off frequencies [Hz]\n",
    "# chans = ['FC3', 'FCz', 'FC4',\n",
    "#         'C3', 'Cz', 'C4',\n",
    "#         'CP3', 'CPz', 'CP4']    # List of str channels to use\n",
    "# chans = ['Fz']\n",
    "tmax = 6    # Time to end epoch [sec]\n",
    "# labels = ['right_hand', 'feet', 'navigation', 'subtraction', 'word_ass']    # List of str of desired events\n",
    "labels = ['right_hand', 'feet']    # List of str of desired events\n",
    "paradigm = MotorImagery(n_classes=len(labels), events=labels, fmin=fc[0], fmax=fc[1], channels=chans, tmax=tmax)\n",
    "\n",
    "[x, y, metadata] = paradigm.get_data(dataset=dataset, subjects=subjects)"
   ]
  },
  {
   "cell_type": "markdown",
   "metadata": {},
   "source": [
    "## Create pipelines\n",
    "\n",
    "Create scikit-learn pipelines for the raw data, and the data processed with the artifact removal tool"
   ]
  },
  {
   "cell_type": "code",
   "execution_count": 4,
   "metadata": {},
   "outputs": [],
   "source": [
    "# raw_pipeline = make_pipeline(CSP(n_components=8), LDA())\n",
    "# ART_pipeline = make_pipeline(art_pipeline.ART(srate=256), CSP(n_components=8), LDA())  # Sample rate obtained from documentation\n",
    "# ART_pipeline = make_pipeline(CSP(n_components=8), LDA())  # Sample rate obtained from documentation\n",
    "\n",
    "srate = 256\n",
    "mu_band = [7.5, 12.5]\n",
    "raw_pipeline = make_pipeline(PSDEstimator(float(srate), fmin=mu_band[0], fmax=mu_band[1], verbose=False), psd_auc.PSD_AUC(),\n",
    "                            SVC())\n",
    "# ART_pipeline = make_pipeline(PSDEstimator(float(srate), fmin=mu_band[0], fmax=mu_band[1], verbose=False),\n",
    "#                             SVC())\n",
    "\n",
    "# raw_pipeline = make_pipeline(LDA())\n",
    "# ART_pipeline = make_pipeline(art_pipeline.ART(srate=256), CSP(n_components=8), LDA())  # Sample rate obtained from documentation\n",
    "# ART_pipeline = make_pipeline(LDA())  # Sample rate obtained from documentation"
   ]
  },
  {
   "cell_type": "code",
   "execution_count": 5,
   "metadata": {},
   "outputs": [
    {
     "name": "stdout",
     "output_type": "stream",
     "text": [
      "TRAIN: [  0   1   2   3   5   6   7   8   9  10  11  12  13  14  16  17  18  19\n",
      "  20  22  23  27  29  30  31  32  33  34  35  36  38  39  40  41  42  44\n",
      "  45  46  48  49  50  51  52  53  54  55  56  57  59  60  61  62  63  64\n",
      "  65  66  67  68  69  71  72  74  75  76  77  78  81  82  84  85  86  87\n",
      "  88  89  90  91  93  94  95 103 104 105 106 107 108 110 111 112 113 114\n",
      " 116 117 118 119 120 121 123 124 125 126 127 128 129 130 131 132 133 135\n",
      " 136 138 139 140 141 142 143 145 147 148 149 151 152 153 154 155 156 157\n",
      " 158 159] TEST: [  4  15  21  24  25  26  28  37  43  47  58  70  73  79  80  83  92  96\n",
      "  97  98  99 100 101 102 109 115 122 134 137 144 146 150]\n",
      "    Using multitaper spectrum estimation with 7 DPSS windows\n",
      "    Using multitaper spectrum estimation with 7 DPSS windows\n",
      "    Using multitaper spectrum estimation with 7 DPSS windows\n",
      "Score = 0.5312\n",
      "Confusion Matrix\n",
      " [[ 5 11]\n",
      " [ 4 12]]\n",
      "TRAIN: [  1   2   3   4   5   6   8   9  10  12  13  14  15  16  17  18  19  21\n",
      "  22  23  24  25  26  27  28  29  30  33  34  35  36  37  39  40  41  42\n",
      "  43  44  45  47  48  50  51  54  56  57  58  59  61  62  63  65  66  68\n",
      "  69  70  72  73  74  75  78  79  80  81  82  83  84  86  87  89  92  93\n",
      "  94  95  96  97  98  99 100 101 102 103 104 105 106 108 109 111 112 114\n",
      " 115 116 117 118 119 120 122 123 124 125 126 127 128 129 130 131 132 133\n",
      " 134 135 136 137 138 139 140 142 144 146 149 150 152 153 154 155 156 157\n",
      " 158 159] TEST: [  0   7  11  20  31  32  38  46  49  52  53  55  60  64  67  71  76  77\n",
      "  85  88  90  91 107 110 113 121 141 143 145 147 148 151]\n",
      "    Using multitaper spectrum estimation with 7 DPSS windows\n",
      "    Using multitaper spectrum estimation with 7 DPSS windows\n",
      "    Using multitaper spectrum estimation with 7 DPSS windows\n",
      "Score = 0.5312\n",
      "Confusion Matrix\n",
      " [[ 4 12]\n",
      " [ 3 13]]\n",
      "TRAIN: [  0   1   3   4   5   6   7   8  10  11  12  13  14  15  16  17  20  21\n",
      "  22  23  24  25  26  28  30  31  32  33  34  35  37  38  39  40  43  44\n",
      "  45  46  47  48  49  50  51  52  53  54  55  58  60  61  62  64  66  67\n",
      "  69  70  71  73  74  76  77  78  79  80  82  83  85  86  87  88  90  91\n",
      "  92  94  95  96  97  98  99 100 101 102 103 105 106 107 108 109 110 111\n",
      " 112 113 115 116 117 120 121 122 123 125 126 127 128 129 130 131 132 133\n",
      " 134 136 137 138 141 142 143 144 145 146 147 148 149 150 151 152 154 155\n",
      " 156 158] TEST: [  2   9  18  19  27  29  36  41  42  56  57  59  63  65  68  72  75  81\n",
      "  84  89  93 104 114 118 119 124 135 139 140 153 157 159]\n",
      "    Using multitaper spectrum estimation with 7 DPSS windows\n",
      "    Using multitaper spectrum estimation with 7 DPSS windows\n",
      "    Using multitaper spectrum estimation with 7 DPSS windows\n",
      "Score = 0.5938\n",
      "Confusion Matrix\n",
      " [[ 8  8]\n",
      " [ 5 11]]\n",
      "TRAIN: [  0   2   4   7   8   9  10  11  13  15  18  19  20  21  22  24  25  26\n",
      "  27  28  29  30  31  32  33  36  37  38  40  41  42  43  45  46  47  48\n",
      "  49  50  52  53  55  56  57  58  59  60  63  64  65  66  67  68  70  71\n",
      "  72  73  74  75  76  77  78  79  80  81  83  84  85  86  88  89  90  91\n",
      "  92  93  94  95  96  97  98  99 100 101 102 103 104 105 107 108 109 110\n",
      " 111 112 113 114 115 118 119 121 122 123 124 126 129 131 133 134 135 136\n",
      " 137 138 139 140 141 143 144 145 146 147 148 149 150 151 152 153 154 157\n",
      " 158 159] TEST: [  1   3   5   6  12  14  16  17  23  34  35  39  44  51  54  61  62  69\n",
      "  82  87 106 116 117 120 125 127 128 130 132 142 155 156]\n",
      "    Using multitaper spectrum estimation with 7 DPSS windows\n",
      "    Using multitaper spectrum estimation with 7 DPSS windows\n",
      "    Using multitaper spectrum estimation with 7 DPSS windows\n",
      "Score = 0.6250\n",
      "Confusion Matrix\n",
      " [[ 5 11]\n",
      " [ 1 15]]\n",
      "TRAIN: [  0   1   2   3   4   5   6   7   9  11  12  14  15  16  17  18  19  20\n",
      "  21  23  24  25  26  27  28  29  31  32  34  35  36  37  38  39  41  42\n",
      "  43  44  46  47  49  51  52  53  54  55  56  57  58  59  60  61  62  63\n",
      "  64  65  67  68  69  70  71  72  73  75  76  77  79  80  81  82  83  84\n",
      "  85  87  88  89  90  91  92  93  96  97  98  99 100 101 102 104 106 107\n",
      " 109 110 113 114 115 116 117 118 119 120 121 122 124 125 127 128 130 132\n",
      " 134 135 137 139 140 141 142 143 144 145 146 147 148 150 151 153 155 156\n",
      " 157 159] TEST: [  8  10  13  22  30  33  40  45  48  50  66  74  78  86  94  95 103 105\n",
      " 108 111 112 123 126 129 131 133 136 138 149 152 154 158]\n",
      "    Using multitaper spectrum estimation with 7 DPSS windows\n",
      "    Using multitaper spectrum estimation with 7 DPSS windows\n",
      "    Using multitaper spectrum estimation with 7 DPSS windows\n",
      "Score = 0.5312\n",
      "Confusion Matrix\n",
      " [[ 3 13]\n",
      " [ 2 14]]\n"
     ]
    }
   ],
   "source": [
    "skf = StratifiedKFold(n_splits=5, shuffle=True, random_state=30)\n",
    "skf.get_n_splits(x, y)\n",
    "for train_index, test_index in skf.split(x,y):\n",
    "    print(\"TRAIN:\", train_index, \"TEST:\", test_index)\n",
    "    x_train, x_test = x[train_index], x[test_index]\n",
    "    y_train, y_test = y[train_index], y[test_index]\n",
    "    \n",
    "    raw_pipeline.fit(x_train, y_train)\n",
    "    score = raw_pipeline.score(x_test, y_test) \n",
    "    raw_predict = raw_pipeline.predict(x_test)\n",
    "\n",
    "    print(f'Score = {score:0.4f}')\n",
    "    cfm = confusion_matrix(y_test, raw_predict)\n",
    "    print(f'Confusion Matrix\\n {cfm}')\n",
    "    "
   ]
  },
  {
   "cell_type": "code",
   "execution_count": 6,
   "metadata": {},
   "outputs": [
    {
     "name": "stdout",
     "output_type": "stream",
     "text": [
      "TRAIN: [  0   1   2   3   5   6   7   8   9  10  11  12  13  14  16  17  18  19\n",
      "  20  22  23  27  29  30  31  32  33  34  35  36  38  39  40  41  42  44\n",
      "  45  46  48  49  50  51  52  53  54  55  56  57  59  60  61  62  63  64\n",
      "  65  66  67  68  69  71  72  74  75  76  77  78  81  82  84  85  86  87\n",
      "  88  89  90  91  93  94  95 103 104 105 106 107 108 110 111 112 113 114\n",
      " 116 117 118 119 120 121 123 124 125 126 127 128 129 130 131 132 133 135\n",
      " 136 138 139 140 141 142 143 145 147 148 149 151 152 153 154 155 156 157\n",
      " 158 159] TEST: [  4  15  21  24  25  26  28  37  43  47  58  70  73  79  80  83  92  96\n",
      "  97  98  99 100 101 102 109 115 122 134 137 144 146 150]\n",
      "    Using multitaper spectrum estimation with 7 DPSS windows\n",
      "    Using multitaper spectrum estimation with 7 DPSS windows\n",
      "    Using multitaper spectrum estimation with 7 DPSS windows\n",
      "Score = 0.4688\n",
      "Confusion Matrix\n",
      " [[ 2 14]\n",
      " [ 3 13]]\n",
      "TRAIN: [  1   2   3   4   5   6   8   9  10  12  13  14  15  16  17  18  19  21\n",
      "  22  23  24  25  26  27  28  29  30  33  34  35  36  37  39  40  41  42\n",
      "  43  44  45  47  48  50  51  54  56  57  58  59  61  62  63  65  66  68\n",
      "  69  70  72  73  74  75  78  79  80  81  82  83  84  86  87  89  92  93\n",
      "  94  95  96  97  98  99 100 101 102 103 104 105 106 108 109 111 112 114\n",
      " 115 116 117 118 119 120 122 123 124 125 126 127 128 129 130 131 132 133\n",
      " 134 135 136 137 138 139 140 142 144 146 149 150 152 153 154 155 156 157\n",
      " 158 159] TEST: [  0   7  11  20  31  32  38  46  49  52  53  55  60  64  67  71  76  77\n",
      "  85  88  90  91 107 110 113 121 141 143 145 147 148 151]\n",
      "    Using multitaper spectrum estimation with 7 DPSS windows\n",
      "    Using multitaper spectrum estimation with 7 DPSS windows\n",
      "    Using multitaper spectrum estimation with 7 DPSS windows\n",
      "Score = 0.5000\n",
      "Confusion Matrix\n",
      " [[ 4 12]\n",
      " [ 4 12]]\n",
      "TRAIN: [  0   1   3   4   5   6   7   8  10  11  12  13  14  15  16  17  20  21\n",
      "  22  23  24  25  26  28  30  31  32  33  34  35  37  38  39  40  43  44\n",
      "  45  46  47  48  49  50  51  52  53  54  55  58  60  61  62  64  66  67\n",
      "  69  70  71  73  74  76  77  78  79  80  82  83  85  86  87  88  90  91\n",
      "  92  94  95  96  97  98  99 100 101 102 103 105 106 107 108 109 110 111\n",
      " 112 113 115 116 117 120 121 122 123 125 126 127 128 129 130 131 132 133\n",
      " 134 136 137 138 141 142 143 144 145 146 147 148 149 150 151 152 154 155\n",
      " 156 158] TEST: [  2   9  18  19  27  29  36  41  42  56  57  59  63  65  68  72  75  81\n",
      "  84  89  93 104 114 118 119 124 135 139 140 153 157 159]\n",
      "    Using multitaper spectrum estimation with 7 DPSS windows\n",
      "    Using multitaper spectrum estimation with 7 DPSS windows\n",
      "    Using multitaper spectrum estimation with 7 DPSS windows\n",
      "Score = 0.4688\n",
      "Confusion Matrix\n",
      " [[ 5 11]\n",
      " [ 6 10]]\n",
      "TRAIN: [  0   2   4   7   8   9  10  11  13  15  18  19  20  21  22  24  25  26\n",
      "  27  28  29  30  31  32  33  36  37  38  40  41  42  43  45  46  47  48\n",
      "  49  50  52  53  55  56  57  58  59  60  63  64  65  66  67  68  70  71\n",
      "  72  73  74  75  76  77  78  79  80  81  83  84  85  86  88  89  90  91\n",
      "  92  93  94  95  96  97  98  99 100 101 102 103 104 105 107 108 109 110\n",
      " 111 112 113 114 115 118 119 121 122 123 124 126 129 131 133 134 135 136\n",
      " 137 138 139 140 141 143 144 145 146 147 148 149 150 151 152 153 154 157\n",
      " 158 159] TEST: [  1   3   5   6  12  14  16  17  23  34  35  39  44  51  54  61  62  69\n",
      "  82  87 106 116 117 120 125 127 128 130 132 142 155 156]\n",
      "    Using multitaper spectrum estimation with 7 DPSS windows\n",
      "    Using multitaper spectrum estimation with 7 DPSS windows\n",
      "    Using multitaper spectrum estimation with 7 DPSS windows\n",
      "Score = 0.3438\n",
      "Confusion Matrix\n",
      " [[ 6 10]\n",
      " [11  5]]\n",
      "TRAIN: [  0   1   2   3   4   5   6   7   9  11  12  14  15  16  17  18  19  20\n",
      "  21  23  24  25  26  27  28  29  31  32  34  35  36  37  38  39  41  42\n",
      "  43  44  46  47  49  51  52  53  54  55  56  57  58  59  60  61  62  63\n",
      "  64  65  67  68  69  70  71  72  73  75  76  77  79  80  81  82  83  84\n",
      "  85  87  88  89  90  91  92  93  96  97  98  99 100 101 102 104 106 107\n",
      " 109 110 113 114 115 116 117 118 119 120 121 122 124 125 127 128 130 132\n",
      " 134 135 137 139 140 141 142 143 144 145 146 147 148 150 151 153 155 156\n",
      " 157 159] TEST: [  8  10  13  22  30  33  40  45  48  50  66  74  78  86  94  95 103 105\n",
      " 108 111 112 123 126 129 131 133 136 138 149 152 154 158]\n",
      "    Using multitaper spectrum estimation with 7 DPSS windows\n",
      "    Using multitaper spectrum estimation with 7 DPSS windows\n",
      "    Using multitaper spectrum estimation with 7 DPSS windows\n",
      "Score = 0.3438\n",
      "Confusion Matrix\n",
      " [[ 5 11]\n",
      " [10  6]]\n"
     ]
    },
    {
     "ename": "",
     "evalue": "",
     "output_type": "error",
     "traceback": [
      "\u001b[1;31mThe Kernel crashed while executing code in the the current cell or a previous cell. Please review the code in the cell(s) to identify a possible cause of the failure. Click <a href='https://aka.ms/vscodeJupyterKernelCrash'>here</a> for more info. View Jupyter <a href='command:jupyter.viewOutput'>log</a> for further details."
     ]
    }
   ],
   "source": [
    "srate = 256\n",
    "w_length = 3*srate\n",
    "[x_art, _, _] = art.remove_eyeblinks_cpu(x, srate=srate, n_clusters=10, window_length=w_length)\n",
    "\n",
    "\n",
    "skf = StratifiedKFold(n_splits=5, shuffle=True, random_state=30)\n",
    "skf.get_n_splits(x_art, y)\n",
    "for train_index, test_index in skf.split(x_art,y):\n",
    "    print(\"TRAIN:\", train_index, \"TEST:\", test_index)\n",
    "    x_train, x_test = x_art[train_index], x_art[test_index]\n",
    "    y_train, y_test = y[train_index], y[test_index]\n",
    "    \n",
    "    raw_pipeline.fit(x_train, y_train)\n",
    "    score = raw_pipeline.score(x_test, y_test) \n",
    "    raw_predict = raw_pipeline.predict(x_test)\n",
    "\n",
    "    print(f'Score = {score:0.4f}')\n",
    "    cfm = confusion_matrix(y_test, raw_predict)\n",
    "    print(f'Confusion Matrix\\n {cfm}')"
   ]
  },
  {
   "cell_type": "code",
   "execution_count": null,
   "metadata": {},
   "outputs": [],
   "source": [
    "no_art = np.arra"
   ]
  },
  {
   "cell_type": "code",
   "execution_count": null,
   "metadata": {},
   "outputs": [],
   "source": [
    "[x_train, x_test, y_train, y_test] = train_test_split(x, y, test_size=0.4, random_state=30, stratify=y)\n",
    "\n",
    "raw_pipeline.fit(x_train, y_train)\n",
    "score = raw_pipeline.score(x_test, y_test) \n",
    "raw_predict = raw_pipeline.predict(x_test)\n",
    "\n",
    "print(f'Score = {score:0.4f}')\n",
    "cfm = confusion_matrix(y_test, raw_predict)\n",
    "print(f'Confusion Matrix\\n {cfm}')"
   ]
  },
  {
   "cell_type": "code",
   "execution_count": null,
   "metadata": {},
   "outputs": [],
   "source": [
    "srate = 256\n",
    "w_length = 3*srate\n",
    "[x_art_train, _, _] = art.remove_eyeblinks_cpu(x_train, srate=srate, n_clusters=10, window_length=w_length)\n",
    "[x_art_test, _, _] = art.remove_eyeblinks_cpu(x_test, srate=srate, n_clusters=10, window_length=w_length)\n",
    "\n",
    "ART_pipeline.fit(x_art_train, y_train)\n",
    "ART_pipeline.score(x_art_test, y_test)\n"
   ]
  },
  {
   "cell_type": "code",
   "execution_count": null,
   "metadata": {},
   "outputs": [],
   "source": [
    "art_predict = ART_pipeline.predict(x_art_test)\n",
    "\n",
    "confusion_matrix(y_test, art_predict)"
   ]
  },
  {
   "cell_type": "markdown",
   "metadata": {},
   "source": [
    "## Evaluate data\n",
    "\n",
    "## Evaluate raw data\n",
    "\n",
    "Evaluate the data without using the artifact removal tool"
   ]
  },
  {
   "cell_type": "code",
   "execution_count": null,
   "metadata": {},
   "outputs": [],
   "source": [
    "evaluation = WithinSessionEvaluation(\n",
    "    paradigm=paradigm,\n",
    "    datasets=[dataset],\n",
    "    overwrite=True,\n",
    "    hdf5_path=None,\n",
    ")\n",
    "\n",
    "raw_results = evaluation.process({\"csp+lda\": raw_pipeline})"
   ]
  },
  {
   "cell_type": "markdown",
   "metadata": {},
   "source": [
    "## Evaluate ART data"
   ]
  },
  {
   "cell_type": "code",
   "execution_count": null,
   "metadata": {},
   "outputs": [],
   "source": [
    "# [x_art, _, _] = art.remove_eyeblinks_cpu(x, srate=256, window_length=512)"
   ]
  },
  {
   "cell_type": "code",
   "execution_count": null,
   "metadata": {},
   "outputs": [],
   "source": [
    "art_results = evaluation.process({\"art+csp+lda\": ART_pipeline}) "
   ]
  },
  {
   "cell_type": "code",
   "execution_count": null,
   "metadata": {},
   "outputs": [],
   "source": [
    "x_train, x_test, y_train2, y_test = train_test_split(x, y, test_size=0.9, random_state=30, stratify=y)\n",
    "# From here pick x_train and y_train to do ART"
   ]
  },
  {
   "cell_type": "code",
   "execution_count": null,
   "metadata": {},
   "outputs": [],
   "source": [
    "z = x[0:33,:,:]\n",
    "a.info['sfreq']\n",
    "srate = int(a.info['sfreq'])\n",
    "[x_art,_,_] = art.remove_eyeblinks_cpu(z, srate, window_length=3*srate)"
   ]
  },
  {
   "cell_type": "code",
   "execution_count": null,
   "metadata": {},
   "outputs": [],
   "source": [
    "epoch = 15\n",
    "chan = 3\n",
    "fig, ax = plt.subplots(2,1)\n",
    "ax[0].plot(z[epoch,chan,:])\n",
    "ax[1].plot(x_art[epoch,chan,:])"
   ]
  },
  {
   "cell_type": "code",
   "execution_count": null,
   "metadata": {},
   "outputs": [],
   "source": [
    "b =a.info['ch_names']"
   ]
  },
  {
   "cell_type": "code",
   "execution_count": null,
   "metadata": {},
   "outputs": [],
   "source": [
    "pipeline = make_pipeline(art.remove_eyeblinks_cpu(srate, window=3*srate), CSP(n_components=30), LDA())\n",
    "\n",
    "evaluation = WithinSessionEvaluation(\n",
    "    paradigm=paradigm,\n",
    "    datasets=[dataset],\n",
    "    overwrite=True,\n",
    "    hdf5_path=None,\n",
    ")\n",
    "\n",
    "results2 = evaluation.process({\"csp+lda\": pipeline})"
   ]
  }
 ],
 "metadata": {
  "interpreter": {
   "hash": "cb2adf991b30cb540516a6e97af5670ff3f67d0a5a80c19c9be25f6eee52dcc1"
  },
  "kernelspec": {
   "display_name": "Python 3.9.12 ('bci_art')",
   "language": "python",
   "name": "python3"
  },
  "language_info": {
   "codemirror_mode": {
    "name": "ipython",
    "version": 3
   },
   "file_extension": ".py",
   "mimetype": "text/x-python",
   "name": "python",
   "nbconvert_exporter": "python",
   "pygments_lexer": "ipython3",
   "version": "3.9.12 (main, Apr  4 2022, 05:22:27) [MSC v.1916 64 bit (AMD64)]"
  },
  "orig_nbformat": 4
 },
 "nbformat": 4,
 "nbformat_minor": 2
}
