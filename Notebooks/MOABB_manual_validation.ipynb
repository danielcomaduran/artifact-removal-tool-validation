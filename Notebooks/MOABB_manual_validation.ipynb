{
 "cells": [
  {
   "cell_type": "markdown",
   "metadata": {},
   "source": [
    "# MOABB manual validation\n",
    "\n",
    "This notebook uses the MOABB dataset but downloaded \"manually\" to avoid using the evaluation methods built in MOABB. This is because I was not able to create a scikit-learn pipeline with to reduce the data size and apply the artifact removal tool.\n",
    "\n",
    "The raw data can be obtained [here](http://bnci-horizon-2020.eu/database/data-sets).\n",
    "\n",
    "## Import libraries"
   ]
  },
  {
   "cell_type": "code",
   "execution_count": 1,
   "metadata": {},
   "outputs": [],
   "source": [
    "import os\n",
    "import mne\n",
    "import numpy as np\n",
    "import scipy.io as io\n",
    "import scipy.signal as signal\n",
    "import matplotlib.pyplot as plt\n",
    "from mne.decoding import CSP\n",
    "from moabb.datasets import BNCI2015004\n",
    "from moabb.paradigms import MotorImagery \n",
    "import matplotlib.collections as collections\n",
    "from sklearn.discriminant_analysis import LinearDiscriminantAnalysis as LDA\n",
    "from sklearn.pipeline import make_pipeline\n",
    "sys.path.append(\"..\") # Adds higher directory to python modules path.\n",
    "from Functions import artifact_removal_tools as art\n",
    "from Functions import eeg_preprocessing\n",
    "from Functions import eeg_quality_index\n",
    "from Functions import art_pipeline\n",
    "from moabb.evaluations import WithinSessionEvaluation\n",
    "from sklearn.model_selection import train_test_split"
   ]
  },
  {
   "cell_type": "markdown",
   "metadata": {},
   "source": [
    "## Import data\n",
    "\n",
    "Specify the subjects to import, the notebook will import all the files within the specified folder. "
   ]
  },
  {
   "cell_type": "code",
   "execution_count": 2,
   "metadata": {},
   "outputs": [],
   "source": [
    "# Settings\n",
    "subjects = [1]    # List of subjects [n]\n",
    "\n",
    "# Import dataset\n",
    "dataset = BNCI2015004()\n",
    "dataset.subject_list = subjects\n",
    "\n",
    "# Select session from dataset\n",
    "sessions = dataset.get_data(subjects=subjects)\n",
    "\n",
    "# Select MI paradigm for classes (n=5): WordAssignment, Subtaction, Navigation, RightHand, and Feet\n",
    "paradigm = MotorImagery(n_classes=5)\n",
    "[x, y, metadata] = paradigm.get_data(dataset=dataset, subjects=subjects)"
   ]
  },
  {
   "cell_type": "code",
   "execution_count": 5,
   "metadata": {},
   "outputs": [],
   "source": [
    "a = raw_data['data']"
   ]
  },
  {
   "cell_type": "code",
   "execution_count": 12,
   "metadata": {},
   "outputs": [],
   "source": [
    "b=a[0][0][0][0]"
   ]
  }
 ],
 "metadata": {
  "kernelspec": {
   "display_name": "Python 3.9.12 ('bci_art')",
   "language": "python",
   "name": "python3"
  },
  "language_info": {
   "codemirror_mode": {
    "name": "ipython",
    "version": 3
   },
   "file_extension": ".py",
   "mimetype": "text/x-python",
   "name": "python",
   "nbconvert_exporter": "python",
   "pygments_lexer": "ipython3",
   "version": "3.9.12 (main, Apr  4 2022, 05:22:27) [MSC v.1916 64 bit (AMD64)]"
  },
  "orig_nbformat": 4,
  "vscode": {
   "interpreter": {
    "hash": "cb2adf991b30cb540516a6e97af5670ff3f67d0a5a80c19c9be25f6eee52dcc1"
   }
  }
 },
 "nbformat": 4,
 "nbformat_minor": 2
}
